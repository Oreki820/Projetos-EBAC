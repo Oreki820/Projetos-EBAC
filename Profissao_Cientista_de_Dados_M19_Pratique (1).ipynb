{
 "cells": [
  {
   "cell_type": "markdown",
   "metadata": {
    "id": "3Um_onCPZEf0"
   },
   "source": [
    "# **MÓDULO 19**\n",
    "# Exercício: Estatística Aplicada"
   ]
  },
  {
   "cell_type": "markdown",
   "metadata": {
    "id": "1m0YhZXwZL1q"
   },
   "source": [
    "**Efetividade de Duas Estratégias de Ensino**\n",
    "\n",
    "Imagine que uma escola esteja avaliando a eficácia de duas estratégias de ensino de matemática para alunos do ensino médio. Eles querem determinar se há uma diferença significativa no desempenho médio dos alunos entre as duas estratégias."
   ]
  },
  {
   "cell_type": "markdown",
   "metadata": {
    "id": "lYK3r7d8ZdUy"
   },
   "source": [
    "# **Hipóteses:**\n",
    "\n",
    "* Hipótese nula (H0): A média das notas dos alunos na estratégia A é igual à média das notas dos alunos na estratégia B.\n",
    "* Hipótese alternativa (H1): A média das notas na Estratégia B é maior do que a média das notas na Estratégia A."
   ]
  },
  {
   "cell_type": "markdown",
   "metadata": {
    "id": "aIXDvxeRZtuK"
   },
   "source": [
    "# **Dados:**\n",
    "\n",
    "* Amostra da Estratégia A: Notas de 50 alunos que receberam a Estratégia A.\n",
    "* Amostra da Estratégia B: Notas de 50 alunos que receberam a Estratégia B."
   ]
  },
  {
   "cell_type": "markdown",
   "metadata": {
    "id": "Awvgd4oAZ3Y7"
   },
   "source": [
    "Usaremos um teste Z para comparar as médias das notas entre as duas amostras."
   ]
  },
  {
   "cell_type": "markdown",
   "metadata": {
    "id": "qyJViOFDZ8Y_"
   },
   "source": [
    "Se o p-valor do teste Z for menor que um nível de significância pré-determinado (por exemplo, α = 0.05), rejeitamos a hipótese nula e concluímos que há uma diferença significativa nas médias das notas entre as duas estratégias de ensino."
   ]
  },
  {
   "cell_type": "code",
   "execution_count": 7,
   "metadata": {
    "id": "UW8wHoiGY9sb"
   },
   "outputs": [],
   "source": [
    "import numpy as np\n",
    "import matplotlib.pyplot as plt\n",
    "from scipy import stats\n",
    "from scipy.stats import norm "
   ]
  },
  {
   "cell_type": "markdown",
   "metadata": {
    "id": "D6tUtiABaDWI"
   },
   "source": [
    "Os dados são criados a seguir:"
   ]
  },
  {
   "cell_type": "code",
   "execution_count": 2,
   "metadata": {
    "id": "F9LLw8rsaFIS",
    "outputId": "e9f9af36-9817-4398-8fcd-fba14f32f1cf"
   },
   "outputs": [
    {
     "name": "stdout",
     "output_type": "stream",
     "text": [
      "Notas da Estratégia A: [87.64052346 74.00157208 79.78737984 92.40893199 88.6755799 ]\n",
      "Notas da Estratégia B: [64.25440127 79.64282997 68.87033835 60.83241379 74.66181326]\n"
     ]
    }
   ],
   "source": [
    "# Definindo médias e desvios padrão para as notas nas duas estratégias\n",
    "media_estrategia_A = 70\n",
    "desvio_padrao_estrategia_A = 10\n",
    "\n",
    "media_estrategia_B = 75\n",
    "desvio_padrao_estrategia_B = 12\n",
    "\n",
    "# Gerando as amostras de notas para cada estratégia de ensino da nossa base\n",
    "np.random.seed(0)  # Para garantir a reprodutibilidade dos resultados\n",
    "amostra_estrategia_A = np.random.normal(loc=media_estrategia_A, scale=desvio_padrao_estrategia_A, size=50)\n",
    "amostra_estrategia_B = np.random.normal(loc=media_estrategia_B, scale=desvio_padrao_estrategia_B, size=50)\n",
    "\n",
    "print(\"Notas da Estratégia A:\", amostra_estrategia_A[:5])\n",
    "print(\"Notas da Estratégia B:\", amostra_estrategia_B[:5])"
   ]
  },
  {
   "cell_type": "markdown",
   "metadata": {
    "id": "KGpDI3hKaUN8"
   },
   "source": [
    "# 1) De acordo com as informações analisadas o nosso teste é unilateral á direita, esquerda ou bicaudal? Justifique.\n",
    "\n",
    "\n"
   ]
  },
  {
   "cell_type": "markdown",
   "metadata": {
    "id": "AeImcp9pbXUb"
   },
   "source": [
    "O teste é unilateral à direita, pois estamos interessados em saber se a média da Estratégia B está à direita (maior) da média da Estratégia A na distribuição.\n",
    "\n",
    "Explicação:\n",
    "Quando queremos testar se uma média é maior que a outra, usamos teste unilateral à direita; se quiséssemos saber se é menor, seria unilateral à esquerda; e se fosse para verificar se é diferente (tanto para mais quanto para menos), seria bicaudal."
   ]
  },
  {
   "cell_type": "markdown",
   "metadata": {
    "id": "xZ5V8EwfbZES"
   },
   "source": [
    "# 2) Calcule as médias para as duas amostragens e as variâncias. Quais insights você pode retirar comparando os dados?"
   ]
  },
  {
   "cell_type": "code",
   "execution_count": 5,
   "metadata": {
    "id": "vwCW7UXkbl-d"
   },
   "outputs": [
    {
     "name": "stdout",
     "output_type": "stream",
     "text": [
      "Média Estratégia A: 71.4056\n",
      "Variância Estratégia A: 129.2655\n",
      "Média Estratégia B: 74.7487\n",
      "Variância Estratégia B: 110.4700\n",
      "\n",
      "--- Insights ---\n",
      "1) Diferença de desempenho médio: A Estratégia B teve média 3.34 pontos maior que A.\n",
      "   Isso sugere um desempenho ligeiramente superior de B, mas sem teste estatístico não podemos confirmar significância.\n",
      "2) Dispersão dos dados: A variância de B (110.47) é menor que a de A (129.27), indicando maior consistência.\n",
      "3) Consistência vs desempenho: B combina notas mais altas e mais estáveis, enquanto A é mais variável.\n",
      "4) Relevância prática vs estatística: Apesar de B parecer melhor, a diferença pode ser fruto do acaso, reforçando a importância de testes estatísticos.\n"
     ]
    }
   ],
   "source": [
    "# Calculando as médias e variâncias\n",
    "media_A = np.mean(amostra_estrategia_A)\n",
    "media_B = np.mean(amostra_estrategia_B)\n",
    "var_A = np.var(amostra_estrategia_A, ddof=1)  # variância amostral\n",
    "var_B = np.var(amostra_estrategia_B, ddof=1)\n",
    "\n",
    "# Exibindo os resultados\n",
    "print(f\"Média Estratégia A: {media_A:.4f}\")\n",
    "print(f\"Variância Estratégia A: {var_A:.4f}\")\n",
    "print(f\"Média Estratégia B: {media_B:.4f}\")\n",
    "print(f\"Variância Estratégia B: {var_B:.4f}\")\n",
    "\n",
    "# Insights\n",
    "print(\"\\n--- Insights ---\")\n",
    "print(f\"1) Diferença de desempenho médio: A Estratégia B teve média {media_B - media_A:.2f} pontos maior que A.\")\n",
    "print(\"   Isso sugere um desempenho ligeiramente superior de B, mas sem teste estatístico não podemos confirmar significância.\")\n",
    "print(f\"2) Dispersão dos dados: A variância de B ({var_B:.2f}) é menor que a de A ({var_A:.2f}), indicando maior consistência.\")\n",
    "print(\"3) Consistência vs desempenho: B combina notas mais altas e mais estáveis, enquanto A é mais variável.\")\n",
    "print(\"4) Relevância prática vs estatística: Apesar de B parecer melhor, a diferença pode ser fruto do acaso, reforçando a importância de testes estatísticos.\")"
   ]
  },
  {
   "cell_type": "markdown",
   "metadata": {
    "id": "8_skpl7RcAE5"
   },
   "source": [
    "# 3) Imprima os resultados da estatística do teste Z, p value e indique se rejeitaremos ou não a hipótese nula. Justifique sua resposta."
   ]
  },
  {
   "cell_type": "code",
   "execution_count": 9,
   "metadata": {
    "id": "n88wuGCjcNCq"
   },
   "outputs": [
    {
     "name": "stdout",
     "output_type": "stream",
     "text": [
      "Média A: 71.4056\n",
      "Variância A: 129.2655\n",
      "Média B: 74.7487\n",
      "Variância B: 110.4700\n",
      "Z calculado: 1.5267\n",
      "p-value (unilateral): 0.0634\n",
      "\n",
      " ---Decisão---\n",
      "❌ Não rejeitamos H0: Não há evidências suficientes para afirmar que a Estratégia B é melhor.\n"
     ]
    }
   ],
   "source": [
    "# Estatísticas básicas\n",
    "media_A = np.mean(amostra_estrategia_A)\n",
    "media_B = np.mean(amostra_estrategia_B)\n",
    "var_A = np.var(amostra_estrategia_A, ddof=1)\n",
    "var_B = np.var(amostra_estrategia_B, ddof=1)\n",
    "n_A = len(amostra_estrategia_A)\n",
    "n_B = len(amostra_estrategia_B)\n",
    "\n",
    "# Estatística Z\n",
    "z_stat = (media_B - media_A) / np.sqrt(var_A/n_A + var_B/n_B)\n",
    "\n",
    "# p-value para teste unilateral à direita (H1: muB > muA)\n",
    "p_value = 1 - norm.cdf(z_stat)\n",
    "\n",
    "# Nível de significância\n",
    "alpha = 0.05\n",
    "\n",
    "# Impressão dos resultados\n",
    "print(f\"Média A: {media_A:.4f}\")\n",
    "print(f\"Variância A: {var_A:.4f}\")\n",
    "print(f\"Média B: {media_B:.4f}\")\n",
    "print(f\"Variância B: {var_B:.4f}\")\n",
    "print(f\"Z calculado: {z_stat:.4f}\")\n",
    "print(f\"p-value (unilateral): {p_value:.4f}\")\n",
    "\n",
    "# Decisão\n",
    "print(\"\\n ---Decisão---\")\n",
    "if p_value < alpha:\n",
    "    print(\"✅ Rejeitamos H0: Há evidências de que a Estratégia B tem média maior que a A.\")\n",
    "else:\n",
    "    print(\"❌ Não rejeitamos H0: Não há evidências suficientes para afirmar que a Estratégia B é melhor.\")"
   ]
  },
  {
   "cell_type": "markdown",
   "metadata": {},
   "source": [
    "Pois não há evidência estatisticamente significativa, ao nível de 5%, para afirmar que a Estratégia B possui média maior que a A.\n",
    "\n",
    "No entanto, o p-value está muito próximo de 0,05, o que indica que a diferença pode ser relevante em um nível de significância mais flexível (por exemplo, 10%)."
   ]
  },
  {
   "cell_type": "markdown",
   "metadata": {
    "id": "IDR8T-bQc3i2"
   },
   "source": [
    "# 4) Para finalizar monte o gráfico da distribuição da estatística do nosso teste Z e explique o que pode ser observado através dele."
   ]
  },
  {
   "cell_type": "code",
   "execution_count": 10,
   "metadata": {
    "id": "My8VY4QmdEWc"
   },
   "outputs": [
    {
     "data": {
      "image/png": "[encoded data removed]",
      "text/plain": [
       "<Figure size 800x500 with 1 Axes>"
      ]
     },
     "metadata": {},
     "output_type": "display_data"
    }
   ],
   "source": [
    "# Valores já calculados\n",
    "media_A = 71.4056\n",
    "media_B = 74.7487\n",
    "var_A = 129.2655\n",
    "var_B = 110.4700\n",
    "n_A = 50\n",
    "n_B = 50\n",
    "alpha = 0.05\n",
    "\n",
    "# Estatística Z\n",
    "z_stat = (media_B - media_A) / np.sqrt(var_A/n_A + var_B/n_B)\n",
    "\n",
    "# Curva normal padrão\n",
    "x = np.linspace(-4, 4, 500)\n",
    "y = norm.pdf(x, 0, 1)\n",
    "\n",
    "# Região crítica\n",
    "z_crit = norm.ppf(1 - alpha)\n",
    "x_crit = np.linspace(z_crit, 4, 200)\n",
    "\n",
    "# Plot\n",
    "plt.figure(figsize=(8,5))\n",
    "plt.plot(x, y, label=\"Distribuição Normal Padrão\", color=\"blue\")\n",
    "plt.fill_between(x_crit, norm.pdf(x_crit), color=\"red\", alpha=0.3, label=\"Região Crítica (α=0,05)\")\n",
    "plt.axvline(z_stat, color=\"green\", linestyle=\"--\", linewidth=2, label=f\"Z calculado = {z_stat:.2f}\")\n",
    "plt.title(\"Distribuição da Estatística Z - Teste Unilateral à Direita\")\n",
    "plt.xlabel(\"Valor de Z\")\n",
    "plt.ylabel(\"Densidade de Probabilidade\")\n",
    "plt.legend()\n",
    "plt.grid(True)\n",
    "plt.show()"
   ]
  },
  {
   "cell_type": "markdown",
   "metadata": {},
   "source": [
    "No gráfico, vemos:\n",
    "\n",
    "Curva azul: distribuição normal padrão (Z ~ N(0,1)), que representa a distribuição da estatística sob a hipótese nula .\n",
    "\n",
    "Área vermelha: região crítica do teste unilateral à direita para α = 0,05— valores de Z acima de 1,645 indicariam rejeição de H0.\n",
    "\n",
    "Linha verde tracejada: valor de Z calculado (≈ 1,54) com base nas amostras.\n",
    "\n",
    "\n",
    "📌 Observação:\n",
    "O Z calculado ficou à esquerda do ponto crítico (1,645), ou seja, fora da região crítica. Isso significa que não rejeitamos H0 ao nível de significância de 5%."
   ]
  }
 ],
 "metadata": {
  "colab": {
   "provenance": []
  },
  "kernelspec": {
   "display_name": "Python [conda env:base] *",
   "language": "python",
   "name": "conda-base-py"
  },
  "language_info": {
   "codemirror_mode": {
    "name": "ipython",
    "version": 3
   },
   "file_extension": ".py",
   "mimetype": "text/x-python",
   "name": "python",
   "nbconvert_exporter": "python",
   "pygments_lexer": "ipython3",
   "version": "3.12.7"
  }
 },
 "nbformat": 4,
 "nbformat_minor": 4
}
