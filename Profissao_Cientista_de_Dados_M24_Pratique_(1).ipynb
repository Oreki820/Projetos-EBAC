{
  "nbformat": 4,
  "nbformat_minor": 0,
  "metadata": {
    "colab": {
      "provenance": [],
      "include_colab_link": true
    },
    "kernelspec": {
      "name": "python3",
      "display_name": "Python 3"
    },
    "language_info": {
      "name": "python"
    }
  },
  "cells": [
    {
      "cell_type": "markdown",
      "metadata": {
        "id": "view-in-github",
        "colab_type": "text"
      },
      "source": [
        "<a href=\"https://colab.research.google.com/github/Oreki820/Projetos-EBAC/blob/main/Profissao_Cientista_de_Dados_M24_Pratique_(1).ipynb\" target=\"_parent\"><img src=\"https://colab.research.google.com/assets/colab-badge.svg\" alt=\"Open In Colab\"/></a>"
      ]
    },
    {
      "cell_type": "markdown",
      "source": [
        "# **MÓDULO 24 - Bancos de Dados + SQL**"
      ],
      "metadata": {
        "id": "4T5dCtwYXFS0"
      }
    },
    {
      "cell_type": "markdown",
      "source": [
        "Para nossa atividade inicial de SQL trabalharemos com uma base de vendas.\n",
        "Abaixo temos o ambiente de preparo para trabalharmos com o SQL lite."
      ],
      "metadata": {
        "id": "tGub_MhcXTfu"
      }
    },
    {
      "cell_type": "code",
      "execution_count": 1,
      "metadata": {
        "id": "eQtWi0CfXCPn"
      },
      "outputs": [],
      "source": [
        "import sqlite3 #Importando a biblioteca necessária\n",
        "import pandas as pd\n",
        "from google.colab import files"
      ]
    },
    {
      "cell_type": "code",
      "source": [
        "uploaded = files.upload()"
      ],
      "metadata": {
        "id": "yKsW2EEpXQTK",
        "colab": {
          "base_uri": "https://localhost:8080/",
          "height": 73
        },
        "outputId": "be189569-2d43-4d3f-d5c1-ade7af44195a"
      },
      "execution_count": 16,
      "outputs": [
        {
          "output_type": "display_data",
          "data": {
            "text/plain": [
              "<IPython.core.display.HTML object>"
            ],
            "text/html": [
              "\n",
              "     <input type=\"file\" id=\"files-3524b76d-534f-4631-a170-5d0a687726b5\" name=\"files[]\" multiple disabled\n",
              "        style=\"border:none\" />\n",
              "     <output id=\"result-3524b76d-534f-4631-a170-5d0a687726b5\">\n",
              "      Upload widget is only available when the cell has been executed in the\n",
              "      current browser session. Please rerun this cell to enable.\n",
              "      </output>\n",
              "      <script>// Copyright 2017 Google LLC\n",
              "//\n",
              "// Licensed under the Apache License, Version 2.0 (the \"License\");\n",
              "// you may not use this file except in compliance with the License.\n",
              "// You may obtain a copy of the License at\n",
              "//\n",
              "//      http://www.apache.org/licenses/LICENSE-2.0\n",
              "//\n",
              "// Unless required by applicable law or agreed to in writing, software\n",
              "// distributed under the License is distributed on an \"AS IS\" BASIS,\n",
              "// WITHOUT WARRANTIES OR CONDITIONS OF ANY KIND, either express or implied.\n",
              "// See the License for the specific language governing permissions and\n",
              "// limitations under the License.\n",
              "\n",
              "/**\n",
              " * @fileoverview Helpers for google.colab Python module.\n",
              " */\n",
              "(function(scope) {\n",
              "function span(text, styleAttributes = {}) {\n",
              "  const element = document.createElement('span');\n",
              "  element.textContent = text;\n",
              "  for (const key of Object.keys(styleAttributes)) {\n",
              "    element.style[key] = styleAttributes[key];\n",
              "  }\n",
              "  return element;\n",
              "}\n",
              "\n",
              "// Max number of bytes which will be uploaded at a time.\n",
              "const MAX_PAYLOAD_SIZE = 100 * 1024;\n",
              "\n",
              "function _uploadFiles(inputId, outputId) {\n",
              "  const steps = uploadFilesStep(inputId, outputId);\n",
              "  const outputElement = document.getElementById(outputId);\n",
              "  // Cache steps on the outputElement to make it available for the next call\n",
              "  // to uploadFilesContinue from Python.\n",
              "  outputElement.steps = steps;\n",
              "\n",
              "  return _uploadFilesContinue(outputId);\n",
              "}\n",
              "\n",
              "// This is roughly an async generator (not supported in the browser yet),\n",
              "// where there are multiple asynchronous steps and the Python side is going\n",
              "// to poll for completion of each step.\n",
              "// This uses a Promise to block the python side on completion of each step,\n",
              "// then passes the result of the previous step as the input to the next step.\n",
              "function _uploadFilesContinue(outputId) {\n",
              "  const outputElement = document.getElementById(outputId);\n",
              "  const steps = outputElement.steps;\n",
              "\n",
              "  const next = steps.next(outputElement.lastPromiseValue);\n",
              "  return Promise.resolve(next.value.promise).then((value) => {\n",
              "    // Cache the last promise value to make it available to the next\n",
              "    // step of the generator.\n",
              "    outputElement.lastPromiseValue = value;\n",
              "    return next.value.response;\n",
              "  });\n",
              "}\n",
              "\n",
              "/**\n",
              " * Generator function which is called between each async step of the upload\n",
              " * process.\n",
              " * @param {string} inputId Element ID of the input file picker element.\n",
              " * @param {string} outputId Element ID of the output display.\n",
              " * @return {!Iterable<!Object>} Iterable of next steps.\n",
              " */\n",
              "function* uploadFilesStep(inputId, outputId) {\n",
              "  const inputElement = document.getElementById(inputId);\n",
              "  inputElement.disabled = false;\n",
              "\n",
              "  const outputElement = document.getElementById(outputId);\n",
              "  outputElement.innerHTML = '';\n",
              "\n",
              "  const pickedPromise = new Promise((resolve) => {\n",
              "    inputElement.addEventListener('change', (e) => {\n",
              "      resolve(e.target.files);\n",
              "    });\n",
              "  });\n",
              "\n",
              "  const cancel = document.createElement('button');\n",
              "  inputElement.parentElement.appendChild(cancel);\n",
              "  cancel.textContent = 'Cancel upload';\n",
              "  const cancelPromise = new Promise((resolve) => {\n",
              "    cancel.onclick = () => {\n",
              "      resolve(null);\n",
              "    };\n",
              "  });\n",
              "\n",
              "  // Wait for the user to pick the files.\n",
              "  const files = yield {\n",
              "    promise: Promise.race([pickedPromise, cancelPromise]),\n",
              "    response: {\n",
              "      action: 'starting',\n",
              "    }\n",
              "  };\n",
              "\n",
              "  cancel.remove();\n",
              "\n",
              "  // Disable the input element since further picks are not allowed.\n",
              "  inputElement.disabled = true;\n",
              "\n",
              "  if (!files) {\n",
              "    return {\n",
              "      response: {\n",
              "        action: 'complete',\n",
              "      }\n",
              "    };\n",
              "  }\n",
              "\n",
              "  for (const file of files) {\n",
              "    const li = document.createElement('li');\n",
              "    li.append(span(file.name, {fontWeight: 'bold'}));\n",
              "    li.append(span(\n",
              "        `(${file.type || 'n/a'}) - ${file.size} bytes, ` +\n",
              "        `last modified: ${\n",
              "            file.lastModifiedDate ? file.lastModifiedDate.toLocaleDateString() :\n",
              "                                    'n/a'} - `));\n",
              "    const percent = span('0% done');\n",
              "    li.appendChild(percent);\n",
              "\n",
              "    outputElement.appendChild(li);\n",
              "\n",
              "    const fileDataPromise = new Promise((resolve) => {\n",
              "      const reader = new FileReader();\n",
              "      reader.onload = (e) => {\n",
              "        resolve(e.target.result);\n",
              "      };\n",
              "      reader.readAsArrayBuffer(file);\n",
              "    });\n",
              "    // Wait for the data to be ready.\n",
              "    let fileData = yield {\n",
              "      promise: fileDataPromise,\n",
              "      response: {\n",
              "        action: 'continue',\n",
              "      }\n",
              "    };\n",
              "\n",
              "    // Use a chunked sending to avoid message size limits. See b/62115660.\n",
              "    let position = 0;\n",
              "    do {\n",
              "      const length = Math.min(fileData.byteLength - position, MAX_PAYLOAD_SIZE);\n",
              "      const chunk = new Uint8Array(fileData, position, length);\n",
              "      position += length;\n",
              "\n",
              "      const base64 = btoa(String.fromCharCode.apply(null, chunk));\n",
              "      yield {\n",
              "        response: {\n",
              "          action: 'append',\n",
              "          file: file.name,\n",
              "          data: base64,\n",
              "        },\n",
              "      };\n",
              "\n",
              "      let percentDone = fileData.byteLength === 0 ?\n",
              "          100 :\n",
              "          Math.round((position / fileData.byteLength) * 100);\n",
              "      percent.textContent = `${percentDone}% done`;\n",
              "\n",
              "    } while (position < fileData.byteLength);\n",
              "  }\n",
              "\n",
              "  // All done.\n",
              "  yield {\n",
              "    response: {\n",
              "      action: 'complete',\n",
              "    }\n",
              "  };\n",
              "}\n",
              "\n",
              "scope.google = scope.google || {};\n",
              "scope.google.colab = scope.google.colab || {};\n",
              "scope.google.colab._files = {\n",
              "  _uploadFiles,\n",
              "  _uploadFilesContinue,\n",
              "};\n",
              "})(self);\n",
              "</script> "
            ]
          },
          "metadata": {}
        },
        {
          "output_type": "stream",
          "name": "stdout",
          "text": [
            "Saving TB_VENDAS_TAREFA.csv to TB_VENDAS_TAREFA (1).csv\n"
          ]
        }
      ]
    },
    {
      "cell_type": "code",
      "source": [
        "df_vendas = pd.read_csv(\"/content/TB_VENDAS_TAREFA.csv\", delimiter=';')"
      ],
      "metadata": {
        "id": "h_UbjxwjTJ70"
      },
      "execution_count": 32,
      "outputs": []
    },
    {
      "cell_type": "code",
      "source": [
        "conn = sqlite3.connect(':memory:')\n",
        "df_vendas.to_sql('tb_vendas', conn, index=False, if_exists='replace')"
      ],
      "metadata": {
        "colab": {
          "base_uri": "https://localhost:8080/"
        },
        "id": "vbdvMKZgXtT5",
        "outputId": "f04609f3-4515-4e41-ca41-f10421ce2e8d"
      },
      "execution_count": 33,
      "outputs": [
        {
          "output_type": "execute_result",
          "data": {
            "text/plain": [
              "24"
            ]
          },
          "metadata": {},
          "execution_count": 33
        }
      ]
    },
    {
      "cell_type": "code",
      "source": [
        "def run_query(query):\n",
        "    return pd.read_sql_query(query, conn)"
      ],
      "metadata": {
        "id": "Z3-elg3aXuiM"
      },
      "execution_count": 34,
      "outputs": []
    },
    {
      "cell_type": "markdown",
      "source": [
        "# 1) Faça uma consulta que retorne todos os dados da nossa tabela de vendas, com todas linhas e todas colunas.\n"
      ],
      "metadata": {
        "id": "Z_EFXuNLXz7m"
      }
    },
    {
      "cell_type": "code",
      "source": [
        "query = \"SELECT * FROM tb_vendas\"\n",
        "result_df = run_query(query)\n",
        "print(result_df)"
      ],
      "metadata": {
        "id": "XQr_MBvmb4yC",
        "colab": {
          "base_uri": "https://localhost:8080/"
        },
        "outputId": "806d8032-9b3a-4456-85bb-e7de8ff37fcc"
      },
      "execution_count": 35,
      "outputs": [
        {
          "output_type": "stream",
          "name": "stdout",
          "text": [
            "    ID_COMPRA  ID_CLIENTE   PRODUTO VALOR_UNID  UNIDADES\n",
            "0        1247        9081  CAMISETA       34,5         2\n",
            "1        1248        9081     CALCA       89,9         1\n",
            "2        1250        9560  CAMISETA       34,5         1\n",
            "3        1249        9630   BERMUDA       79,5         2\n",
            "4        1251        9425  CAMISETA       34,5         3\n",
            "5        1252        9425   VESTIDO        102         1\n",
            "6        1253        9481     CALCA       89,9         2\n",
            "7        1254        9785      MEIA       25,9         1\n",
            "8        1255        9786     CALCA       89,9         2\n",
            "9        1256        9787   VESTIDO        102         1\n",
            "10       1257        9788     CALCA       89,9         2\n",
            "11       1258        9789  CAMISETA       34,5         3\n",
            "12       1259        9790  CAMISETA       34,5         1\n",
            "13       1260        9791   BERMUDA       79,5         2\n",
            "14       1261        9792  CAMISETA       34,5         2\n",
            "15       1262        9793     CALCA       89,9         2\n",
            "16       1263        9794     CALCA       89,9         1\n",
            "17       1264        9795   BERMUDA       79,5         2\n",
            "18       1265        9796  CAMISETA       34,5         4\n",
            "19       1266        9797  CAMISETA       34,5         1\n",
            "20       1267        9798   VESTIDO        102         2\n",
            "21       1268        9799      MEIA       25,9         3\n",
            "22       1269        9800  CAMISETA       34,5         2\n",
            "23       1270        9801     CALCA       89,9         1\n"
          ]
        }
      ]
    },
    {
      "cell_type": "markdown",
      "source": [
        "# 2) Faça uma consulta que retorne apenas 10 linhas da coluna produto.\n"
      ],
      "metadata": {
        "id": "nyhYEkRLYMNY"
      }
    },
    {
      "cell_type": "code",
      "source": [
        "query = \"SELECT PRODUTO FROM tb_vendas LIMIT 10;\"\n",
        "result_df = run_query(query)\n",
        "print(result_df)"
      ],
      "metadata": {
        "id": "LfKnVQUCYLxE",
        "colab": {
          "base_uri": "https://localhost:8080/"
        },
        "outputId": "4ccd17aa-15d9-4d1a-e5fa-0deccfadd4c3"
      },
      "execution_count": 36,
      "outputs": [
        {
          "output_type": "stream",
          "name": "stdout",
          "text": [
            "    PRODUTO\n",
            "0  CAMISETA\n",
            "1     CALCA\n",
            "2  CAMISETA\n",
            "3   BERMUDA\n",
            "4  CAMISETA\n",
            "5   VESTIDO\n",
            "6     CALCA\n",
            "7      MEIA\n",
            "8     CALCA\n",
            "9   VESTIDO\n"
          ]
        }
      ]
    },
    {
      "cell_type": "markdown",
      "source": [
        "# 3) Faça uma consulta que retorne a média do valor por unidade e também das unidades vendidas. Não se esqueça de renomear o nome das colunas ao cria-las."
      ],
      "metadata": {
        "id": "-hqcrP6CYiGF"
      }
    },
    {
      "cell_type": "code",
      "source": [
        "query = \"\"\"\n",
        "SELECT\n",
        "    AVG(valor_unid) AS media_valor_unidades,\n",
        "    AVG(unidades) AS media_unidades_vendidas\n",
        "FROM tb_vendas;\n",
        "\"\"\"\n",
        "result_df = run_query(query)\n",
        "print(result_df)\n"
      ],
      "metadata": {
        "id": "v1aJMTkMYhm4",
        "colab": {
          "base_uri": "https://localhost:8080/"
        },
        "outputId": "691fa75e-c4b5-4928-a719-1c05eea72230"
      },
      "execution_count": 44,
      "outputs": [
        {
          "output_type": "stream",
          "name": "stdout",
          "text": [
            "   media_valor_unidades  media_unidades_vendidas\n",
            "0             63.416667                 1.833333\n"
          ]
        }
      ]
    },
    {
      "cell_type": "markdown",
      "source": [
        "# 4) Note que na nossa tabela não temos o total de valor gasto por compra, temos o valor do produto e a quantidade vendida, para termos o valor total precisamos multiplicar essas duas colunas e para multiplicar colunas usamos o *.\n",
        "# Faça uma consulta que retorne a coluna ID_COMPRA, ID_CLIENTE e o valor total gasto.\n",
        "\n",
        "Ex: SELECT TICKET_MEDIO*UNIDADE FROM TB_EXEMPLO"
      ],
      "metadata": {
        "id": "UJUIsVjAY8Jz"
      }
    },
    {
      "cell_type": "code",
      "source": [
        "query = \"\"\"\n",
        "SELECT\n",
        "    ID_COMPRA,\n",
        "    ID_CLIENTE,\n",
        "    valor_unid * unidades AS valor_total\n",
        "FROM tb_vendas;\n",
        "\"\"\"\n",
        "result_df = run_query(query)\n",
        "print(result_df)\n"
      ],
      "metadata": {
        "id": "rNQfkp6RY7qa",
        "colab": {
          "base_uri": "https://localhost:8080/"
        },
        "outputId": "2be8544b-742a-4c3f-ce19-ec43c26a8ea5"
      },
      "execution_count": 49,
      "outputs": [
        {
          "output_type": "stream",
          "name": "stdout",
          "text": [
            "    ID_COMPRA  ID_CLIENTE  valor_total\n",
            "0        1247        9081           68\n",
            "1        1248        9081           89\n",
            "2        1250        9560           34\n",
            "3        1249        9630          158\n",
            "4        1251        9425          102\n",
            "5        1252        9425          102\n",
            "6        1253        9481          178\n",
            "7        1254        9785           25\n",
            "8        1255        9786          178\n",
            "9        1256        9787          102\n",
            "10       1257        9788          178\n",
            "11       1258        9789          102\n",
            "12       1259        9790           34\n",
            "13       1260        9791          158\n",
            "14       1261        9792           68\n",
            "15       1262        9793          178\n",
            "16       1263        9794           89\n",
            "17       1264        9795          158\n",
            "18       1265        9796          136\n",
            "19       1266        9797           34\n",
            "20       1267        9798          204\n",
            "21       1268        9799           75\n",
            "22       1269        9800           68\n",
            "23       1270        9801           89\n"
          ]
        }
      ]
    },
    {
      "cell_type": "markdown",
      "source": [
        "# 5) [DESAFIO] Faça uma consulta que traz a média do valor total gasto que foi calculado no exercício anterior. Note que não queremos a média por pedido e sim a média total, apenas essa informação deve vir na consulta."
      ],
      "metadata": {
        "id": "tuTDx7W3Zxlp"
      }
    },
    {
      "cell_type": "code",
      "source": [
        "query = \"\"\"\n",
        "SELECT\n",
        "    AVG(valor_unid * unidades) AS media_valor_total\n",
        "FROM tb_vendas;\n",
        "\"\"\"\n",
        "result_df = run_query(query)\n",
        "print(result_df)\n"
      ],
      "metadata": {
        "id": "UPUskwJoaEgy",
        "colab": {
          "base_uri": "https://localhost:8080/"
        },
        "outputId": "c6dbfcb5-bfcc-4e4c-e1d6-c818a5cc654e"
      },
      "execution_count": 51,
      "outputs": [
        {
          "output_type": "stream",
          "name": "stdout",
          "text": [
            "   media_valor_total\n",
            "0            108.625\n"
          ]
        }
      ]
    },
    {
      "cell_type": "markdown",
      "source": [
        "# 6) Diferencie com suas palavras, considerando o repertório que tem criado da área de dados, a utilizadade do SQL e do Python para ciência de dados.\n",
        "Minimo 2 linhas."
      ],
      "metadata": {
        "id": "0ezDHHigaONG"
      }
    },
    {
      "cell_type": "markdown",
      "source": [
        "No contexto de Ciência de Dados, tanto SQL quanto Python são ferramentas fundamentais, mas cada uma tem suas particularidades e aplicações.\n",
        "\n",
        "SQL é uma linguagem específica para manipulação e consulta de bancos de dados relacionais. Com SQL, consigo acessar grandes volumes de dados de forma estruturada, filtrar informações, agrupar, fazer somas, médias e outras operações de forma rápida diretamente no banco. Ele é ideal quando quero extrair exatamente os dados que preciso sem carregar tudo na memória, o que é eficiente e prático para análises iniciais ou para criar relatórios consolidados.\n",
        "\n",
        "Já o Python é uma linguagem de programação completa, muito utilizada em Ciência de Dados por sua flexibilidade. Com Python, além de manipular dados (usando bibliotecas como pandas), posso fazer análises exploratórias, visualizações, modelagem estatística e machine learning. Ele permite trabalhar com dados vindos de várias fontes (bancos SQL, arquivos CSV, APIs, etc.) e integrar diferentes tipos de análise em um único fluxo.\n",
        "\n",
        "Em resumo:\n",
        "\n",
        "SQL: ótimo para extrair, filtrar e agrupar dados direto do banco.\n",
        "\n",
        "Python: ótimo para manipular, analisar e criar modelos a partir dos dados.\n",
        "\n",
        "Na prática, os dois se complementam: muitas vezes uso SQL para buscar e resumir dados, e Python para aprofundar a análise, criar gráficos, modelos e automatizar processos.\n"
      ],
      "metadata": {
        "id": "_I8Huni7WtGp"
      }
    },
    {
      "cell_type": "markdown",
      "source": [
        "#7) Diferencie com suas palavras banco de dados relacionais de não relacionais.\n",
        "Minimo 3 linhas."
      ],
      "metadata": {
        "id": "F1xh_-UPaZU2"
      }
    },
    {
      "cell_type": "markdown",
      "source": [
        "Bancos de dados relacionais (SQL) armazenam os dados em tabelas organizadas em linhas e colunas, seguindo uma estrutura fixa. Cada tabela pode ter relacionamentos com outras tabelas através de chaves primárias e estrangeiras. Esse tipo de banco é ótimo para dados estruturados, com informações consistentes e regras bem definidas. Exemplos: MySQL, PostgreSQL, SQL Server.\n",
        "\n",
        "Bancos de dados não relacionais (NoSQL) não seguem uma estrutura rígida de tabelas. Eles armazenam dados de forma mais flexível, como documentos, pares chave-valor, grafos ou colunas, permitindo lidar com grandes volumes de dados variados e em formatos diferentes. São ideais para aplicações que exigem alta escalabilidade e agilidade. Exemplos: MongoDB, Cassandra, Redis.\n",
        "\n",
        "Resumo:\n",
        "\n",
        "Relacional: estruturado, tabelas, fácil de fazer consultas complexas com JOINs, ideal para dados consistentes.\n",
        "\n",
        "Não relacional: flexível, documentos ou grafos, ótimo para grandes volumes e dados variados, escalável."
      ],
      "metadata": {
        "id": "8o2t2GC2W4pX"
      }
    },
    {
      "cell_type": "markdown",
      "source": [
        "#8) Queremos saber da sua opinião, acredita que o SQL pode ser mais prático que o Python para consultas rápidas? Justifique.\n",
        "Muitas vezes durante a carreia você terá que escolher qual linguagem utilizar para cada momento afim de entregar o que é solicitado o mais rápido e com qualidade possível, exercite sua argumentação = )\n",
        "\n",
        "Minimo 3 linhas."
      ],
      "metadata": {
        "id": "GkKpxl52atNQ"
      }
    },
    {
      "cell_type": "markdown",
      "source": [
        "Sim, acredito que o SQL pode ser mais prático que o Python para consultas rápidas, principalmente quando estamos lidando com bancos de dados relacionais grandes e estruturados.\n",
        "\n",
        "Minha justificativa é que o SQL foi desenvolvido especificamente para consultar e manipular dados dentro do próprio banco. Com comandos simples como SELECT, WHERE, GROUP BY e JOIN, consigo filtrar, agrupar e resumir informações de forma muito eficiente, sem precisar carregar todo o dataset na memória. Por exemplo, se eu quiser saber a média de vendas de um determinado produto ou todas as compras de um cliente específico, posso fazer isso em uma única linha de SQL, e o banco já faz o processamento.\n",
        "\n",
        "Já o Python, embora seja muito poderoso e flexível, exige carregar os dados (como em um DataFrame do pandas) antes de aplicar filtros, cálculos ou agregações. Para datasets muito grandes, isso pode ser mais lento e consumir mais memória. Python é ideal quando preciso fazer análises complexas, visualizações ou modelos de machine learning, mas para uma consulta rápida, SQL costuma ser mais direto e prático.\n",
        "\n",
        "Em resumo: durante a carreira, a escolha entre SQL e Python depende do contexto. Para consultas rápidas e específicas em bancos estruturados, SQL é mais eficiente, enquanto Python brilha em análises avançadas e manipulação de dados complexos.\n"
      ],
      "metadata": {
        "id": "UvWDbIa4XJQn"
      }
    }
  ]
}